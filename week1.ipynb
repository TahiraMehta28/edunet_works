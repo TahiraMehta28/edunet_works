{
  "nbformat": 4,
  "nbformat_minor": 0,
  "metadata": {
    "colab": {
      "provenance": [],
      "authorship_tag": "ABX9TyMJHFD6bepG/7PXW5vtihnn",
      "include_colab_link": true
    },
    "kernelspec": {
      "name": "python3",
      "display_name": "Python 3"
    },
    "language_info": {
      "name": "python"
    }
  },
  "cells": [
    {
      "cell_type": "markdown",
      "metadata": {
        "id": "view-in-github",
        "colab_type": "text"
      },
      "source": [
        "<a href=\"https://colab.research.google.com/github/TahiraMehta28/edunet_works/blob/main/week1.ipynb\" target=\"_parent\"><img src=\"https://colab.research.google.com/assets/colab-badge.svg\" alt=\"Open In Colab\"/></a>"
      ]
    },
    {
      "cell_type": "code",
      "execution_count": 3,
      "metadata": {
        "colab": {
          "base_uri": "https://localhost:8080/"
        },
        "id": "qpmkrkdkLxb8",
        "outputId": "cad57e5d-6796-4735-fd74-7ae950711d76"
      },
      "outputs": [
        {
          "output_type": "stream",
          "name": "stdout",
          "text": [
            "✅ Dataset copied successfully to: /content/tree-species-dataset\n"
          ]
        }
      ],
      "source": [
        "import shutil\n",
        "import os\n",
        "\n",
        "# Use the path returned by kagglehub directly\n",
        "source_path = '/kaggle/input/tree-species-identification-dataset'\n",
        "destination_path = '/content/tree-species-dataset'\n",
        "\n",
        "# Ensure destination doesn't already exist\n",
        "if os.path.exists(destination_path):\n",
        "    shutil.rmtree(destination_path)\n",
        "\n",
        "# Use copytree instead of move\n",
        "try:\n",
        "    shutil.copytree(source_path, destination_path)\n",
        "    print(f\"✅ Dataset copied successfully to: {destination_path}\")\n",
        "except Exception as e:\n",
        "    print(f\"❌ Error copying dataset: {e}\")\n"
      ]
    },
    {
      "cell_type": "code",
      "source": [],
      "metadata": {
        "id": "O1VYw9rqNJ6j"
      },
      "execution_count": null,
      "outputs": []
    }
  ]
}